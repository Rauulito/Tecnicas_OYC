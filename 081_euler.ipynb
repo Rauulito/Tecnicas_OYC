{
  "cells": [
    {
      "cell_type": "markdown",
      "metadata": {
        "id": "DiaJ4xJgD-YT"
      },
      "source": [
        "[![Open In Colab](https://colab.research.google.com/assets/colab-badge.svg)](https://colab.research.google.com/github/juansensio/blog/blob/master/081_euler/081_euler.ipynb)"
      ]
    },
    {
      "cell_type": "markdown",
      "metadata": {
        "id": "SAgu98QeD-YX"
      },
      "source": [
        "$$\n",
        "\\begin{array}{c}\n",
        "\t\\rho_t + \\nabla \\cdot (\\rho u) = 0 \\\\\n",
        "\t(\\rho \\mathbf{u})_t + (\\mathbf{u} \\cdot \\nabla)(\\rho \\mathbf{u}) + \\nabla p = 0 \\\\\n",
        "\t(\\rho e)_t + \\nabla \\cdot(\\mathbf{u} (  \\rho e + p )) = 0\n",
        "\\end{array}\n",
        "$$\n",
        "\n",
        "![](http://hypar.github.io/Solution_2DNavStokLowMachVortexPETSc.gif)"
      ]
    },
    {
      "cell_type": "code",
      "execution_count": null,
      "metadata": {
        "ExecuteTime": {
          "end_time": "2021-10-05T10:15:05.492279Z",
          "start_time": "2021-10-05T10:15:04.943457Z"
        },
        "id": "Wx7enAicD-YZ",
        "outputId": "61e14f71-7ad3-40d3-ed65-62dfe152b077"
      },
      "outputs": [
        {
          "name": "stderr",
          "output_type": "stream",
          "text": [
            "C:\\Users\\sensio\\miniconda3\\lib\\site-packages\\torch\\functional.py:445: UserWarning: torch.meshgrid: in an upcoming release, it will be required to pass the indexing argument. (Triggered internally at  ..\\aten\\src\\ATen\\native\\TensorShape.cpp:2157.)\n",
            "  return _VF.meshgrid(tensors, **kwargs)  # type: ignore[attr-defined]\n"
          ]
        }
      ],
      "source": [
        "import math \n",
        "import torch \n",
        "\n",
        "# Condiciones iniciales\n",
        "\n",
        "GAMMA = 1.4\n",
        "b = 5\n",
        "\n",
        "x = torch.linspace(-5,5,50)\n",
        "y = torch.linspace(-5,5,50)\n",
        "xx, yy = torch.meshgrid(x,y)\n",
        "\n",
        "r2 = xx**2 + yy**2\n",
        "r0 = (1-(b*(GAMMA-1))/(8*math.pi*math.pi*GAMMA)*torch.exp(1-r2))**(1/(GAMMA-1))\n",
        "u0 = 1 - b/(2*math.pi)*torch.exp(0.5*(1-r2))*y\n",
        "v0 = b/(2*math.pi)*torch.exp(0.5*(1-r2))*x\n",
        "p0 = r0**GAMMA"
      ]
    },
    {
      "cell_type": "code",
      "execution_count": null,
      "metadata": {
        "ExecuteTime": {
          "end_time": "2021-10-05T10:15:05.744321Z",
          "start_time": "2021-10-05T10:15:05.493866Z"
        },
        "id": "2EYs1BlwD-Yb",
        "outputId": "1fffb75a-4e3f-4e31-c1c5-47713a310b12"
      },
      "outputs": [
        {
          "data": {
            "image/png": "[encoded data removed]",
            "text/plain": [
              "<Figure size 600x400 with 2 Axes>"
            ]
          },
          "metadata": {
            "needs_background": "light"
          },
          "output_type": "display_data"
        }
      ],
      "source": [
        "import matplotlib.pyplot as plt \n",
        "\n",
        "plt.figure(dpi=100)\n",
        "plt.imshow(r0, vmin=r0.min(), vmax=r0.max(), origin='lower', extent=[-5, 5, -5 ,5])\n",
        "plt.colorbar()\n",
        "plt.show()"
      ]
    },
    {
      "cell_type": "code",
      "execution_count": null,
      "metadata": {
        "ExecuteTime": {
          "end_time": "2021-10-05T10:15:05.750404Z",
          "start_time": "2021-10-05T10:15:05.746219Z"
        },
        "id": "TYxjarMmD-Yd"
      },
      "outputs": [],
      "source": [
        "def computeGrads(y, x):\n",
        "    grads, = torch.autograd.grad(y, x, grad_outputs=y.data.new(y.shape).fill_(1), create_graph=True, only_inputs=True)\n",
        "    return grads"
      ]
    },
    {
      "cell_type": "code",
      "execution_count": null,
      "metadata": {
        "ExecuteTime": {
          "end_time": "2021-10-05T10:15:07.697218Z",
          "start_time": "2021-10-05T10:15:05.751164Z"
        },
        "id": "Srrl9CNaD-Ye",
        "outputId": "30361511-21bd-4f48-f507-59cb8f94330e"
      },
      "outputs": [
        {
          "ename": "AssertionError",
          "evalue": "Torch not compiled with CUDA enabled",
          "output_type": "error",
          "traceback": [
            "\u001b[1;31m---------------------------------------------------------------------------\u001b[0m",
            "\u001b[1;31mAssertionError\u001b[0m                            Traceback (most recent call last)",
            "\u001b[1;32m~\\AppData\\Local\\Temp/ipykernel_10052/3535921065.py\u001b[0m in \u001b[0;36m<module>\u001b[1;34m\u001b[0m\n\u001b[0;32m     19\u001b[0m \u001b[0mdevice\u001b[0m \u001b[1;33m=\u001b[0m \u001b[1;34m\"cuda\"\u001b[0m\u001b[1;33m\u001b[0m\u001b[1;33m\u001b[0m\u001b[0m\n\u001b[0;32m     20\u001b[0m \u001b[1;33m\u001b[0m\u001b[0m\n\u001b[1;32m---> 21\u001b[1;33m \u001b[0mmlp\u001b[0m\u001b[1;33m.\u001b[0m\u001b[0mto\u001b[0m\u001b[1;33m(\u001b[0m\u001b[0mdevice\u001b[0m\u001b[1;33m)\u001b[0m\u001b[1;33m\u001b[0m\u001b[1;33m\u001b[0m\u001b[0m\n\u001b[0m",
            "\u001b[1;32m~\\miniconda3\\lib\\site-packages\\torch\\nn\\modules\\module.py\u001b[0m in \u001b[0;36mto\u001b[1;34m(self, *args, **kwargs)\u001b[0m\n\u001b[0;32m    897\u001b[0m             \u001b[1;32mreturn\u001b[0m \u001b[0mt\u001b[0m\u001b[1;33m.\u001b[0m\u001b[0mto\u001b[0m\u001b[1;33m(\u001b[0m\u001b[0mdevice\u001b[0m\u001b[1;33m,\u001b[0m \u001b[0mdtype\u001b[0m \u001b[1;32mif\u001b[0m \u001b[0mt\u001b[0m\u001b[1;33m.\u001b[0m\u001b[0mis_floating_point\u001b[0m\u001b[1;33m(\u001b[0m\u001b[1;33m)\u001b[0m \u001b[1;32mor\u001b[0m \u001b[0mt\u001b[0m\u001b[1;33m.\u001b[0m\u001b[0mis_complex\u001b[0m\u001b[1;33m(\u001b[0m\u001b[1;33m)\u001b[0m \u001b[1;32melse\u001b[0m \u001b[1;32mNone\u001b[0m\u001b[1;33m,\u001b[0m \u001b[0mnon_blocking\u001b[0m\u001b[1;33m)\u001b[0m\u001b[1;33m\u001b[0m\u001b[1;33m\u001b[0m\u001b[0m\n\u001b[0;32m    898\u001b[0m \u001b[1;33m\u001b[0m\u001b[0m\n\u001b[1;32m--> 899\u001b[1;33m         \u001b[1;32mreturn\u001b[0m \u001b[0mself\u001b[0m\u001b[1;33m.\u001b[0m\u001b[0m_apply\u001b[0m\u001b[1;33m(\u001b[0m\u001b[0mconvert\u001b[0m\u001b[1;33m)\u001b[0m\u001b[1;33m\u001b[0m\u001b[1;33m\u001b[0m\u001b[0m\n\u001b[0m\u001b[0;32m    900\u001b[0m \u001b[1;33m\u001b[0m\u001b[0m\n\u001b[0;32m    901\u001b[0m     def register_backward_hook(\n",
            "\u001b[1;32m~\\miniconda3\\lib\\site-packages\\torch\\nn\\modules\\module.py\u001b[0m in \u001b[0;36m_apply\u001b[1;34m(self, fn)\u001b[0m\n\u001b[0;32m    568\u001b[0m     \u001b[1;32mdef\u001b[0m \u001b[0m_apply\u001b[0m\u001b[1;33m(\u001b[0m\u001b[0mself\u001b[0m\u001b[1;33m,\u001b[0m \u001b[0mfn\u001b[0m\u001b[1;33m)\u001b[0m\u001b[1;33m:\u001b[0m\u001b[1;33m\u001b[0m\u001b[1;33m\u001b[0m\u001b[0m\n\u001b[0;32m    569\u001b[0m         \u001b[1;32mfor\u001b[0m \u001b[0mmodule\u001b[0m \u001b[1;32min\u001b[0m \u001b[0mself\u001b[0m\u001b[1;33m.\u001b[0m\u001b[0mchildren\u001b[0m\u001b[1;33m(\u001b[0m\u001b[1;33m)\u001b[0m\u001b[1;33m:\u001b[0m\u001b[1;33m\u001b[0m\u001b[1;33m\u001b[0m\u001b[0m\n\u001b[1;32m--> 570\u001b[1;33m             \u001b[0mmodule\u001b[0m\u001b[1;33m.\u001b[0m\u001b[0m_apply\u001b[0m\u001b[1;33m(\u001b[0m\u001b[0mfn\u001b[0m\u001b[1;33m)\u001b[0m\u001b[1;33m\u001b[0m\u001b[1;33m\u001b[0m\u001b[0m\n\u001b[0m\u001b[0;32m    571\u001b[0m \u001b[1;33m\u001b[0m\u001b[0m\n\u001b[0;32m    572\u001b[0m         \u001b[1;32mdef\u001b[0m \u001b[0mcompute_should_use_set_data\u001b[0m\u001b[1;33m(\u001b[0m\u001b[0mtensor\u001b[0m\u001b[1;33m,\u001b[0m \u001b[0mtensor_applied\u001b[0m\u001b[1;33m)\u001b[0m\u001b[1;33m:\u001b[0m\u001b[1;33m\u001b[0m\u001b[1;33m\u001b[0m\u001b[0m\n",
            "\u001b[1;32m~\\miniconda3\\lib\\site-packages\\torch\\nn\\modules\\module.py\u001b[0m in \u001b[0;36m_apply\u001b[1;34m(self, fn)\u001b[0m\n\u001b[0;32m    591\u001b[0m             \u001b[1;31m# `with torch.no_grad():`\u001b[0m\u001b[1;33m\u001b[0m\u001b[1;33m\u001b[0m\u001b[1;33m\u001b[0m\u001b[0m\n\u001b[0;32m    592\u001b[0m             \u001b[1;32mwith\u001b[0m \u001b[0mtorch\u001b[0m\u001b[1;33m.\u001b[0m\u001b[0mno_grad\u001b[0m\u001b[1;33m(\u001b[0m\u001b[1;33m)\u001b[0m\u001b[1;33m:\u001b[0m\u001b[1;33m\u001b[0m\u001b[1;33m\u001b[0m\u001b[0m\n\u001b[1;32m--> 593\u001b[1;33m                 \u001b[0mparam_applied\u001b[0m \u001b[1;33m=\u001b[0m \u001b[0mfn\u001b[0m\u001b[1;33m(\u001b[0m\u001b[0mparam\u001b[0m\u001b[1;33m)\u001b[0m\u001b[1;33m\u001b[0m\u001b[1;33m\u001b[0m\u001b[0m\n\u001b[0m\u001b[0;32m    594\u001b[0m             \u001b[0mshould_use_set_data\u001b[0m \u001b[1;33m=\u001b[0m \u001b[0mcompute_should_use_set_data\u001b[0m\u001b[1;33m(\u001b[0m\u001b[0mparam\u001b[0m\u001b[1;33m,\u001b[0m \u001b[0mparam_applied\u001b[0m\u001b[1;33m)\u001b[0m\u001b[1;33m\u001b[0m\u001b[1;33m\u001b[0m\u001b[0m\n\u001b[0;32m    595\u001b[0m             \u001b[1;32mif\u001b[0m \u001b[0mshould_use_set_data\u001b[0m\u001b[1;33m:\u001b[0m\u001b[1;33m\u001b[0m\u001b[1;33m\u001b[0m\u001b[0m\n",
            "\u001b[1;32m~\\miniconda3\\lib\\site-packages\\torch\\nn\\modules\\module.py\u001b[0m in \u001b[0;36mconvert\u001b[1;34m(t)\u001b[0m\n\u001b[0;32m    895\u001b[0m                 return t.to(device, dtype if t.is_floating_point() or t.is_complex() else None,\n\u001b[0;32m    896\u001b[0m                             non_blocking, memory_format=convert_to_format)\n\u001b[1;32m--> 897\u001b[1;33m             \u001b[1;32mreturn\u001b[0m \u001b[0mt\u001b[0m\u001b[1;33m.\u001b[0m\u001b[0mto\u001b[0m\u001b[1;33m(\u001b[0m\u001b[0mdevice\u001b[0m\u001b[1;33m,\u001b[0m \u001b[0mdtype\u001b[0m \u001b[1;32mif\u001b[0m \u001b[0mt\u001b[0m\u001b[1;33m.\u001b[0m\u001b[0mis_floating_point\u001b[0m\u001b[1;33m(\u001b[0m\u001b[1;33m)\u001b[0m \u001b[1;32mor\u001b[0m \u001b[0mt\u001b[0m\u001b[1;33m.\u001b[0m\u001b[0mis_complex\u001b[0m\u001b[1;33m(\u001b[0m\u001b[1;33m)\u001b[0m \u001b[1;32melse\u001b[0m \u001b[1;32mNone\u001b[0m\u001b[1;33m,\u001b[0m \u001b[0mnon_blocking\u001b[0m\u001b[1;33m)\u001b[0m\u001b[1;33m\u001b[0m\u001b[1;33m\u001b[0m\u001b[0m\n\u001b[0m\u001b[0;32m    898\u001b[0m \u001b[1;33m\u001b[0m\u001b[0m\n\u001b[0;32m    899\u001b[0m         \u001b[1;32mreturn\u001b[0m \u001b[0mself\u001b[0m\u001b[1;33m.\u001b[0m\u001b[0m_apply\u001b[0m\u001b[1;33m(\u001b[0m\u001b[0mconvert\u001b[0m\u001b[1;33m)\u001b[0m\u001b[1;33m\u001b[0m\u001b[1;33m\u001b[0m\u001b[0m\n",
            "\u001b[1;32m~\\miniconda3\\lib\\site-packages\\torch\\cuda\\__init__.py\u001b[0m in \u001b[0;36m_lazy_init\u001b[1;34m()\u001b[0m\n\u001b[0;32m    206\u001b[0m                 \"multiprocessing, you must use the 'spawn' start method\")\n\u001b[0;32m    207\u001b[0m         \u001b[1;32mif\u001b[0m \u001b[1;32mnot\u001b[0m \u001b[0mhasattr\u001b[0m\u001b[1;33m(\u001b[0m\u001b[0mtorch\u001b[0m\u001b[1;33m.\u001b[0m\u001b[0m_C\u001b[0m\u001b[1;33m,\u001b[0m \u001b[1;34m'_cuda_getDeviceCount'\u001b[0m\u001b[1;33m)\u001b[0m\u001b[1;33m:\u001b[0m\u001b[1;33m\u001b[0m\u001b[1;33m\u001b[0m\u001b[0m\n\u001b[1;32m--> 208\u001b[1;33m             \u001b[1;32mraise\u001b[0m \u001b[0mAssertionError\u001b[0m\u001b[1;33m(\u001b[0m\u001b[1;34m\"Torch not compiled with CUDA enabled\"\u001b[0m\u001b[1;33m)\u001b[0m\u001b[1;33m\u001b[0m\u001b[1;33m\u001b[0m\u001b[0m\n\u001b[0m\u001b[0;32m    209\u001b[0m         \u001b[1;32mif\u001b[0m \u001b[0m_cudart\u001b[0m \u001b[1;32mis\u001b[0m \u001b[1;32mNone\u001b[0m\u001b[1;33m:\u001b[0m\u001b[1;33m\u001b[0m\u001b[1;33m\u001b[0m\u001b[0m\n\u001b[0;32m    210\u001b[0m             raise AssertionError(\n",
            "\u001b[1;31mAssertionError\u001b[0m: Torch not compiled with CUDA enabled"
          ]
        }
      ],
      "source": [
        "import torch.nn as nn\n",
        "\n",
        "class Sine(nn.Module):\n",
        "    def __init__(self):\n",
        "        super().__init__()\n",
        "    def forward(self, x):\n",
        "        return torch.sin(x)\n",
        "\n",
        "mlp = nn.Sequential(\n",
        "    nn.Linear(3, 100),\n",
        "    Sine(), \n",
        "    nn.Linear(100, 100), \n",
        "    Sine(),\n",
        "    nn.Linear(100, 100), \n",
        "    Sine(),\n",
        "    nn.Linear(100, 4)\n",
        ")\n",
        "\n",
        "device = \"cuda\"\n",
        "\n",
        "mlp.to(device)"
      ]
    },
    {
      "cell_type": "code",
      "execution_count": null,
      "metadata": {
        "ExecuteTime": {
          "end_time": "2021-10-05T10:37:46.758784Z",
          "start_time": "2021-10-05T10:15:07.699368Z"
        },
        "code_folding": [],
        "id": "awVHO1YbD-Yf"
      },
      "outputs": [],
      "source": [
        "from fastprogress.fastprogress import progress_bar\n",
        "\n",
        "N_STEPS = 100000\n",
        "N_SAMPLES = 1000\n",
        "N_SAMPLES_0 = 1000\n",
        "\n",
        "optimizer = torch.optim.Adam(mlp.parameters())\n",
        "scheduler =  torch.optim.lr_scheduler.MultiStepLR(optimizer, milestones=[int(0.4*N_STEPS), int(0.8*N_STEPS)], gamma=0.1)\n",
        "criterion = torch.nn.MSELoss()\n",
        "mlp.train()\n",
        "\n",
        "\n",
        "mlp.to(device)\n",
        "\n",
        "mb = progress_bar(range(1, N_STEPS+1))\n",
        "\n",
        "for step in mb:\n",
        "\n",
        "    # optimizando para EDP's\n",
        "    x = torch.rand(N_SAMPLES, device=device)*10. - 5.\n",
        "    y = torch.rand(N_SAMPLES, device=device)*10. - 5.\n",
        "    t = torch.rand(N_SAMPLES, device=device)*10.\n",
        "\n",
        "    X = torch.stack([  \n",
        "        x, \n",
        "        y,\n",
        "        t\n",
        "    ], axis=-1)\n",
        "    X.requires_grad = True\n",
        "    \n",
        "    y_hat = mlp(X) \n",
        "    r, u, v, p = y_hat[:,0], y_hat[:,1], y_hat[:,2], y_hat[:,3]\n",
        "    \n",
        "    grads = computeGrads(r, X)        \n",
        "    drdt = grads[:, 2]\n",
        "\n",
        "    grads = computeGrads(r*u, X)       \n",
        "    drudx, drudt = grads[:, 0], grads[:, 2]\n",
        "\n",
        "    grads = computeGrads(r*v, X)          \n",
        "    drvdy, drvdt = grads[:, 1], grads[:, 2]\n",
        "\n",
        "    grads = computeGrads(r*u*u + p, X)            \n",
        "    druupdx = grads[:, 0]\n",
        "\n",
        "    grads = computeGrads(r*u*v, X)              \n",
        "    drvudx, druvdy = grads[:, 0], grads[:, 1]\n",
        "\n",
        "    grads = computeGrads(r*v*v + p, X)            \n",
        "    drvvpdy = grads[:, 1]\n",
        "\n",
        "    re = p/(GAMMA-1) + 0.5*r*(u*u + v*v)\n",
        "    grads = computeGrads(re, X)    \n",
        "    dredt = grads[:, 2]\n",
        "\n",
        "    grads = computeGrads((re+p)*u, X)   \n",
        "    drepudx = grads[:, 0]\n",
        "\n",
        "    grads = computeGrads((re+p)*v, X)   \n",
        "    drepvdy = grads[:, 1]\n",
        "        \n",
        "    pde_loss = criterion(drdt, - drudx - drvdy) + \\\n",
        "        criterion(drudt, - druupdx - druvdy) + \\\n",
        "        criterion(drvdt, - drvudx - drvvpdy) + \\\n",
        "        criterion(dredt, - drepudx - drepvdy)\n",
        "    \n",
        "    # Condiciones iniciales\n",
        "    r2 = x**2 + y**2\n",
        "    r00 = (1-(b*(GAMMA-1))/(8*math.pi*math.pi*GAMMA)*torch.exp(1-r2))**(1/(GAMMA-1))\n",
        "    u = 1 - b/(2*math.pi)*torch.exp(0.5*(1-r2))*y\n",
        "    v = b/(2*math.pi)*torch.exp(0.5*(1-r2))*x\n",
        "    p = r00**GAMMA\n",
        "    \n",
        "    X = torch.stack([  \n",
        "        x, \n",
        "        y,\n",
        "        torch.zeros(N_SAMPLES, device=device)\n",
        "    ], axis=-1)\n",
        "    X.requires_grad = True\n",
        "    y_hat = mlp(X) \n",
        "    ini_loss = criterion(y_hat, torch.stack([  \n",
        "        r00,\n",
        "        u, \n",
        "        v,\n",
        "        p\n",
        "    ], axis=-1))\n",
        "    \n",
        "    # Optimizando para las condiciones de contorno\n",
        "    # Izquierda\n",
        "    Y0 = torch.stack([  \n",
        "        -5.*torch.ones(N_SAMPLES_0, device=device), \n",
        "        y,\n",
        "        t\n",
        "    ], axis=-1)\n",
        "    # Derecha\n",
        "    Y1 = torch.stack([  \n",
        "        5.*torch.ones(N_SAMPLES_0, device=device), \n",
        "        y,\n",
        "        t,\n",
        "    ], axis=-1)\n",
        "    y0 = mlp(Y0) \n",
        "    y1 = mlp(Y1) \n",
        "    y_loss = criterion(y0, y1)\n",
        "    \n",
        "    X0 = torch.stack([\n",
        "        x,\n",
        "        -5.*torch.ones(N_SAMPLES_0, device=device), \n",
        "        t\n",
        "    ], axis=-1)\n",
        "    \n",
        "    X1 = torch.stack([  \n",
        "        x,\n",
        "        5.*torch.ones(N_SAMPLES_0, device=device), \n",
        "        t,\n",
        "    ], axis=-1)\n",
        "    x0 = mlp(X0) \n",
        "    x1 = mlp(X1) \n",
        "    x_loss = criterion(x0, x1)\n",
        "\n",
        "    bound_loss = y_loss + x_loss\n",
        "         \n",
        "    # Actualización\n",
        "    optimizer.zero_grad()\n",
        "    loss = ini_loss + bound_loss + pde_loss \n",
        "    loss.backward()\n",
        "    optimizer.step()\n",
        "    scheduler.step()\n",
        "    \n",
        "    mb.comment = f'pde_loss {pde_loss.item():.5f} ini_loss {ini_loss.item():.5f} bound_loss {bound_loss.item():.5f}'"
      ]
    },
    {
      "cell_type": "code",
      "execution_count": null,
      "metadata": {
        "ExecuteTime": {
          "end_time": "2021-10-05T10:37:46.763417Z",
          "start_time": "2021-10-05T10:37:46.759682Z"
        },
        "id": "itnGz3mlD-Yi"
      },
      "outputs": [],
      "source": [
        "import numpy as np\n",
        "\n",
        "def run_mlp(Nx, Ny, dt, tf):\n",
        "    ps, ts = [], []\n",
        "    t = 0\n",
        "    x = np.linspace(-5,5,Nx)\n",
        "    y = np.linspace(-5,5,Ny)\n",
        "    X = np.stack(np.meshgrid(x,y), -1).reshape(-1, 2)\n",
        "    X0 = torch.from_numpy(X).float()\n",
        "    mlp.eval()\n",
        "    mlp.cpu()\n",
        "    while t < tf:\n",
        "        with torch.no_grad():\n",
        "            X = torch.cat([  # N, (X, Y, T)\n",
        "                X0,\n",
        "                torch.ones(len(X0)).unsqueeze(1)*t,\n",
        "            ], axis=1)\n",
        "            p = mlp(X)\n",
        "        ps.append(p[:,0].reshape(Ny,Nx))\n",
        "        ts.append(t)\n",
        "        t += dt\n",
        "    return ps, ts"
      ]
    },
    {
      "cell_type": "code",
      "execution_count": null,
      "metadata": {
        "ExecuteTime": {
          "end_time": "2021-10-05T10:37:46.775668Z",
          "start_time": "2021-10-05T10:37:46.764187Z"
        },
        "id": "kGABa4lTD-Yk"
      },
      "outputs": [],
      "source": [
        "from matplotlib import animation, rc\n",
        "rc('animation', html='html5')\n",
        "\n",
        "def update(i):\n",
        "    r = ps[i]\n",
        "    ax.clear()\n",
        "    ax.imshow(r, vmin=0.9, vmax=1., origin='lower', extent=[-5, 5, -5 ,5])\n",
        "    ax.set_xlabel('x')\n",
        "    ax.set_ylabel('y')\n",
        "    ax.set_title(f't = {ts[i]:.3f}')\n",
        "    ax.axis('off')\n",
        "    return ax"
      ]
    },
    {
      "cell_type": "code",
      "execution_count": null,
      "metadata": {
        "ExecuteTime": {
          "end_time": "2021-10-05T10:37:48.471478Z",
          "start_time": "2021-10-05T10:37:46.776392Z"
        },
        "id": "R6bR7ycoD-Yn"
      },
      "outputs": [],
      "source": [
        "\n",
        "ps, ts = run_mlp(33, 33, 0.2, 10)\n",
        "\n",
        "fig = plt.figure(dpi=100)\n",
        "ax = plt.subplot(1,1,1)\n",
        "anim = animation.FuncAnimation(fig, update, frames=len(ps), interval=200)\n",
        "plt.close()\n",
        "\n",
        "anim"
      ]
    }
  ],
  "metadata": {
    "kernelspec": {
      "display_name": "Python 3 (ipykernel)",
      "language": "python",
      "name": "python3"
    },
    "language_info": {
      "codemirror_mode": {
        "name": "ipython",
        "version": 3
      },
      "file_extension": ".py",
      "mimetype": "text/x-python",
      "name": "python",
      "nbconvert_exporter": "python",
      "pygments_lexer": "ipython3",
      "version": "3.9.5"
    },
    "toc": {
      "base_numbering": 1,
      "nav_menu": {},
      "number_sections": true,
      "sideBar": true,
      "skip_h1_title": false,
      "title_cell": "Table of Contents",
      "title_sidebar": "Contents",
      "toc_cell": false,
      "toc_position": {},
      "toc_section_display": true,
      "toc_window_display": false
    },
    "colab": {
      "provenance": []
    }
  },
  "nbformat": 4,
  "nbformat_minor": 0
}